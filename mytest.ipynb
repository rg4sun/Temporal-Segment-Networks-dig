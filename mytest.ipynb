{
 "cells": [
  {
   "cell_type": "code",
   "execution_count": null,
   "metadata": {},
   "outputs": [],
   "source": [
    "import argparse\n",
    "import os"
   ]
  },
  {
   "cell_type": "code",
   "execution_count": null,
   "metadata": {},
   "outputs": [],
   "source": [
    "parser = argparse.ArgumentParser()\n",
    "parser.add_argument('score_files', nargs='+', type=str)\n",
    "parser.add_argument('--score_weights', nargs='+', type=float, default=None)\n",
    "parser.add_argument('--crop_agg', type=str, choices=['max', 'mean'], default='mean')\n",
    "\n",
    "parser"
   ]
  },
  {
   "cell_type": "code",
   "execution_count": null,
   "metadata": {},
   "outputs": [],
   "source": [
    "# args = parser.parse_args() # 使用这个在jupyternotebook中会报错\n",
    "# 解决方案参考：\n",
    "# https://blog.csdn.net/u012869752/article/details/72513141\n",
    "# https://www.yisu.com/zixun/148111.html\n",
    "args = parser.parse_args(args=[])\n",
    "args"
   ]
  }
 ],
 "metadata": {
  "interpreter": {
   "hash": "971de8236d001e156202e75ab73a66f12817a181b09f6a4f3f5c915b9ed55cc8"
  },
  "kernelspec": {
   "display_name": "Python 3.7.5 64-bit",
   "name": "python3"
  },
  "language_info": {
   "codemirror_mode": {
    "name": "ipython",
    "version": 3
   },
   "file_extension": ".py",
   "mimetype": "text/x-python",
   "name": "python",
   "nbconvert_exporter": "python",
   "pygments_lexer": "ipython3",
   "version": "3.7.5"
  },
  "orig_nbformat": 4
 },
 "nbformat": 4,
 "nbformat_minor": 2
}
